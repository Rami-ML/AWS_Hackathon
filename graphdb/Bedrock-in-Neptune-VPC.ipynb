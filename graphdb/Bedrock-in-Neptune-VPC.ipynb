{
 "cells": [
  {
   "cell_type": "markdown",
   "id": "d0040a2d-2fc1-4a8a-b55a-83c2a09764ec",
   "metadata": {},
   "source": [
    "# Exmple how to extract Entities and Relationships with LLMs, convert to an Langchain GraphDocument and put it into a AWS Neptune Graph Database via Gremlin interface\n",
    "\n",
    "### Sources\n",
    "\n",
    "* [https://www.aidoczh.com/langchain/v0.2/docs/integrations/graphs/azure_cosmosdb_gremlin/](https://www.aidoczh.com/langchain/v0.2/docs/integrations/graphs/azure_cosmosdb_gremlin/)\n",
    "* [https://repost.aws/questions/QU1SNP6AMoQquNkPlpo5ZLVw/using-aws-neptune-with-langchain](https://repost.aws/questions/QU1SNP6AMoQquNkPlpo5ZLVw/using-aws-neptune-with-langchain)\n",
    "* [https://python.langchain.com/docs/integrations/graphs/amazon_neptune_open_cypher/](https://python.langchain.com/docs/integrations/graphs/amazon_neptune_open_cypher/)\n",
    "* [https://python.langchain.com/docs/integrations/graphs/amazon_neptune_open_cypher/](https://python.langchain.com/docs/integrations/graphs/amazon_neptune_open_cypher/)\n",
    "* [https://python.langchain.com/docs/integrations/chat/bedrock/](https://python.langchain.com/docs/integrations/chat/bedrock/)\n",
    "\n"
   ]
  },
  {
   "cell_type": "markdown",
   "id": "0b83e0ad-1b32-464a-b882-20ed7275748b",
   "metadata": {},
   "source": [
    "## Test the Neptune DB status "
   ]
  },
  {
   "cell_type": "code",
   "execution_count": 121,
   "id": "a1afcaf9-077d-4e61-aa0e-1b300525eefd",
   "metadata": {},
   "outputs": [
    {
     "name": "stdout",
     "output_type": "stream",
     "text": [
      "{\n",
      "    \"acceptedQueryCount\" : 0,\n",
      "    \"runningQueryCount\" : 0,\n",
      "    \"queries\" : [ ]\n",
      "}"
     ]
    }
   ],
   "source": [
    "!curl https://db-neptune-1.cluster-ro-cqniyw0gi5se.us-east-1.neptune.amazonaws.com:8182/openCypher/status"
   ]
  },
  {
   "cell_type": "markdown",
   "id": "69673384-83c2-4bd1-86b7-25f68dc6e169",
   "metadata": {},
   "source": [
    "## Get Neptune DB status and configuration"
   ]
  },
  {
   "cell_type": "code",
   "execution_count": 122,
   "id": "6f3eea9d-e5f3-40ba-821f-2b60b95e4762",
   "metadata": {},
   "outputs": [
    {
     "name": "stderr",
     "output_type": "stream",
     "text": [
      "UsageError: Line magic function `%status` not found.\n"
     ]
    }
   ],
   "source": [
    "%status"
   ]
  },
  {
   "cell_type": "code",
   "execution_count": 123,
   "id": "acd2fb90-3bac-4ff8-9ae5-382be79f36e4",
   "metadata": {},
   "outputs": [
    {
     "name": "stderr",
     "output_type": "stream",
     "text": [
      "UsageError: Line magic function `%graph_notebook_config` not found.\n"
     ]
    }
   ],
   "source": [
    "%graph_notebook_config"
   ]
  },
  {
   "cell_type": "markdown",
   "id": "16ae63ea-4db8-4021-97f9-f727dd1caea9",
   "metadata": {},
   "source": [
    "## Install necessary libraries"
   ]
  },
  {
   "cell_type": "code",
   "execution_count": 124,
   "id": "d2dbd86c-0e57-4f21-ac20-764b83659c3c",
   "metadata": {
    "editable": true,
    "slideshow": {
     "slide_type": ""
    },
    "tags": []
   },
   "outputs": [
    {
     "name": "stdout",
     "output_type": "stream",
     "text": [
      "\u001b[31mERROR: pip's dependency resolver does not currently take into account all the packages that are installed. This behaviour is the source of the following dependency conflicts.\n",
      "aiobotocore 2.21.1 requires botocore<1.37.2,>=1.37.0, but you have botocore 1.38.27 which is incompatible.\n",
      "awscli 1.40.0 requires botocore==1.38.1, but you have botocore 1.38.27 which is incompatible.\n",
      "awscli 1.40.0 requires s3transfer<0.13.0,>=0.12.0, but you have s3transfer 0.13.0 which is incompatible.\n",
      "graph-notebook 5.0.1 requires json-repair==0.29.2, but you have json-repair 0.39.1 which is incompatible.\n",
      "graph-notebook 5.0.1 requires neo4j<=5.23.1,>=5.0.0, but you have neo4j 5.28.1 which is incompatible.\n",
      "graph-notebook 5.0.1 requires numpy<1.24.0,>=1.23.5, but you have numpy 1.26.4 which is incompatible.\n",
      "s3fs 2025.3.2 requires fsspec==2025.3.2.*, but you have fsspec 2024.12.0 which is incompatible.\u001b[0m\u001b[31m\n",
      "\u001b[0mNote: you may need to restart the kernel to use updated packages.\n"
     ]
    }
   ],
   "source": [
    "%pip install -qU langchain-aws langchain_community langchain_experimental langchain tiktoken boto3 json-repair langchain-neo4j"
   ]
  },
  {
   "cell_type": "code",
   "execution_count": 145,
   "id": "87d8caad-501b-4ce5-b2e8-0b4287f65410",
   "metadata": {
    "editable": true,
    "slideshow": {
     "slide_type": ""
    },
    "tags": []
   },
   "outputs": [
    {
     "name": "stdout",
     "output_type": "stream",
     "text": [
      "Note: you may need to restart the kernel to use updated packages.\n"
     ]
    }
   ],
   "source": [
    "%pip install -qU nest_asyncio unstructured markdown"
   ]
  },
  {
   "cell_type": "markdown",
   "id": "94b8a269-cec3-4105-b195-30a7bff392a3",
   "metadata": {},
   "source": [
    "## Import necessary libraries"
   ]
  },
  {
   "cell_type": "code",
   "execution_count": 126,
   "id": "4746ed43-67ee-4850-b412-f6de2a3670a2",
   "metadata": {
    "editable": true,
    "slideshow": {
     "slide_type": ""
    },
    "tags": []
   },
   "outputs": [],
   "source": [
    "import nest_asyncio\n",
    "nest_asyncio.apply()"
   ]
  },
  {
   "cell_type": "code",
   "execution_count": 143,
   "id": "44c875a5-9c3c-438c-b634-49f28313227b",
   "metadata": {
    "editable": true,
    "slideshow": {
     "slide_type": ""
    },
    "tags": []
   },
   "outputs": [],
   "source": [
    "import json\n",
    "import boto3\n",
    "import os\n",
    "import glob\n",
    "import sys\n",
    "import pprint\n",
    "import numpy as np\n",
    "from getpass import getpass\n",
    "from langchain_aws import BedrockLLM\n",
    "from langchain_aws import BedrockEmbeddings\n",
    "from langchain_aws import ChatBedrockConverse\n",
    "from langchain_aws.graphs import NeptuneGraph\n",
    "from langchain_aws.graphs import NeptuneAnalyticsGraph\n",
    "from langchain_aws.chains import create_neptune_opencypher_qa_chain\n",
    "from langchain_experimental.graph_transformers import LLMGraphTransformer\n",
    "from langchain_community.graphs.graph_document import GraphDocument\n",
    "from langchain_text_splitters import RecursiveCharacterTextSplitter\n",
    "from langchain_core.documents import Document\n",
    "from langchain_community.document_loaders import UnstructuredMarkdownLoader\n",
    "from langchain_community.callbacks.bedrock_anthropic_callback import BedrockAnthropicTokenUsageCallbackHandler\n",
    "from gremlin_python.driver import client, serializer\n",
    "from gremlin_python.process.traversal import T"
   ]
  },
  {
   "cell_type": "code",
   "execution_count": 128,
   "id": "db30175c-5b02-4d13-9d57-cd70c7de0f47",
   "metadata": {
    "editable": true,
    "slideshow": {
     "slide_type": ""
    },
    "tags": []
   },
   "outputs": [],
   "source": [
    "MODELS = {\n",
    "    \"Claude 3.7 Sonnet\": \"us.anthropic.claude-3-7-sonnet-20250219-v1:0\",\n",
    "    \"Claude 3.5 Sonnet\": \"us.anthropic.claude-3-5-sonnet-20240620-v1:0\",\n",
    "    \"Claude 3.5 Haiku\": \"us.anthropic.claude-3-5-haiku-20241022-v1:0\",\n",
    "    \"Amazon Nova Pro\": \"us.amazon.nova-pro-v1:0\",\n",
    "    \"Amazon Nova Micro\": \"us.amazon.nova-micro-v1:0\",\n",
    "    \"DeepSeek-R1\": \"us.deepseek.r1-v1:0\",\n",
    "    \"Meta Llama 3.1 70B Instruct\": \"us.meta.llama3-1-70b-instruct-v1:0\"\n",
    "}"
   ]
  },
  {
   "cell_type": "markdown",
   "id": "32db8573-9440-4559-ae36-d16d620d4455",
   "metadata": {},
   "source": [
    "## Enter AWS credentials"
   ]
  },
  {
   "cell_type": "code",
   "execution_count": 129,
   "id": "a2cb4c26-0b7d-4155-a13d-c11cddd837c5",
   "metadata": {},
   "outputs": [
    {
     "name": "stdin",
     "output_type": "stream",
     "text": [
      "AWS Acces key:  ········\n",
      "AWS Secret key:  ········\n",
      "AWS Region [default: us-east-1]:  \n"
     ]
    }
   ],
   "source": [
    "default_region = \"us-east-1\"\n",
    "AWS_ACCESS_KEY = getpass(\"AWS Acces key: \")\n",
    "AWS_SECRET_KEY = getpass(\"AWS Secret key: \")\n",
    "AWS_REGION = input(f\"AWS Region [default: {default_region}]: \") or default_region"
   ]
  },
  {
   "cell_type": "markdown",
   "id": "ce4c19a4-2686-498c-bb56-0741ec771f5c",
   "metadata": {},
   "source": [
    "## Initialize the AWS clients"
   ]
  },
  {
   "cell_type": "code",
   "execution_count": 130,
   "id": "0811af9a-09de-4bf3-93c2-83827c38e15c",
   "metadata": {},
   "outputs": [],
   "source": [
    "bedrock_client = boto3.client(\n",
    "    service_name=\"bedrock-runtime\",\n",
    "    region_name=AWS_REGION,\n",
    "    aws_access_key_id=AWS_ACCESS_KEY,\n",
    "    aws_secret_access_key=AWS_SECRET_KEY,\n",
    ")"
   ]
  },
  {
   "cell_type": "code",
   "execution_count": 131,
   "id": "9541e5ba-0a2c-4a4e-901d-e88fcd5c9835",
   "metadata": {},
   "outputs": [],
   "source": [
    "neptune_client = boto3.client(\n",
    "    service_name=\"neptune-graph\",\n",
    "    region_name=AWS_REGION,\n",
    "    aws_access_key_id=AWS_ACCESS_KEY,\n",
    "    aws_secret_access_key=AWS_SECRET_KEY,\n",
    "    verify=False,\n",
    ")"
   ]
  },
  {
   "cell_type": "markdown",
   "id": "a764fb01-c8f3-4e7e-9ac2-2beb39ebe28e",
   "metadata": {},
   "source": [
    "## Initialize the LLM"
   ]
  },
  {
   "cell_type": "code",
   "execution_count": 132,
   "id": "de91fa8d-eca7-4527-82af-25a0f6da2102",
   "metadata": {},
   "outputs": [
    {
     "name": "stdin",
     "output_type": "stream",
     "text": [
      "AWS model [default: us.anthropic.claude-3-7-sonnet-20250219-v1:0]:  \n"
     ]
    }
   ],
   "source": [
    "default_model_id = \"us.anthropic.claude-3-7-sonnet-20250219-v1:0\"\n",
    "AWS_MODEL_ID = input(f\"AWS model [default: {default_model_id}]: \") or default_model_id"
   ]
  },
  {
   "cell_type": "code",
   "execution_count": 133,
   "id": "1a07b60b-1af0-40d9-823c-9b1307d9dcb1",
   "metadata": {},
   "outputs": [],
   "source": [
    "llm = ChatBedrockConverse(\n",
    "    client=bedrock_client,\n",
    "    model=AWS_MODEL_ID,\n",
    "    temperature=0,\n",
    ")"
   ]
  },
  {
   "cell_type": "markdown",
   "id": "b4d4daac-25de-415f-9d99-de6ef20f501e",
   "metadata": {},
   "source": [
    "## Text"
   ]
  },
  {
   "cell_type": "code",
   "execution_count": 14,
   "id": "3c5443bc-c24b-439c-9663-832c111fe4c2",
   "metadata": {},
   "outputs": [],
   "source": [
    "transcript = \"\"\"\n",
    "hey everybody it's charlie from daily motor and if you just purchased a 2024 volkswagen id4 or maybe a little bit newer one if \n",
    "you're watching this after the fact or maybe you're just testing one out this video is for you we're going to show you how to \n",
    "use the 12.9 inch infotainment screen we're going to show you how to pair up a phone use apple carplay and android auto we're \n",
    "going to test out the voice commands and try to answer any questions you might have now if you do want to see more on the car \n",
    "check the link below we've got a dedicated review of the seven speaker sound system we're going to be doing a full review i \n",
    "don't think we're going to do a range test on this model but we have range test some range tested some previous id4s so feel \n",
    "free to find that below as well so oh my gosh all right a little bit of a sneak peek here we've got a wake word that has come \n",
    "awake on me a few times here and not super convenient but in front of you you see a pretty straightforward gauge cluster screen \n",
    "really not too much to tell you other than that it tells you your digital speed speed limit your cruise control your charge \n",
    "percentage as well as a mileage and the gear that you're in maybe some information there about seat belts i actually really \n",
    "like how straightforward this is you don't need any fancy power meter it tells you both your percentage of battery and your \n",
    "distance to empty your kind of mileage they're estimated just a nice easy to read digital speed readout the resolution's nice \n",
    "this is a very good compromise i see to having a simple clean layout but still giving you something to see right in front of \n",
    "you no sort of head-up display so let's move right on into the center screen this is an updated system for the volkswagen id4 \n",
    "and as i understand not all models are getting it some of the more basic id4s are sticking with the 12-inch screen now i don't \n",
    "know for sure if that's running the previous operating system that version or if it's this version on the smaller screen i \n",
    "think it's the older version of the operating system though but this one if we come to the home screen this is kind of what \n",
    "you're going to see your basic home screen here you've got some persistent buttons up on the top for various functionality of \n",
    "the system this is essentially an app screen if you will we'll get back to that here in a moment you've got the outside \n",
    "temperature a quick toggle to your android auto or apple carplay and some information over here on the right such as time and \n",
    "signal strength for the phone and along the bottom you have some persistent climate controls heated and ventilated seats and \n",
    "temperature to bring up the full climate control screen you click climate and then you can see all of your controls for the \n",
    "climate you can also just change the temperature right here with these controls and then right here in the center you've got \n",
    "volume and a little on and off button for turning the media on and off on this home screen you're seeing about two-thirds of it \n",
    "on the left taken up by the navigation and then on the right looks like some smart kind of things you might want to click right \n",
    "away kind of quick toggles if you will and then some media controls and information about charging let's get back to this home \n",
    "screen you always get back home with that home button if we slide to the right we see some more tiles that give us information \n",
    "looks like we've got phone vehicle status and some tips and tricks and you can customize the tiles on our home screen by let's \n",
    "see right here the layout can move things around and there's there's a we're not going to go into every single little detail \n",
    "and how to on the system this is more a general overview and then it'll get you to the proper screens to be able to spend more \n",
    "time playing around with them but man there is a lot going on here and this is this is one of my first interactions with the \n",
    "system as well so i'm learning it to display area operating menu okay this is telling you the things i just told you operation \n",
    "zoom in and out yeah that's that's we're familiar with how to do that customization customize the tiles on the home screen do \n",
    "this press and hold the tile list of various functions and then a function select a function to be displayed menu sorting order \n",
    "arrange the functions all right so that's on the main kind of menu deal so if we go home and we want this one we can customize \n",
    "it right here then this comes up and you can choose the different things maybe i wanted uh sound adjustments to be right there \n",
    "and i can then have that on the main screen and click that it's bringing me right to my sound settings one thing i do \n",
    "appreciate about the screen is how quickly it responds to to inputs there's not really that micro lag that you get with a lot \n",
    "of screens on the market these days okay so you can even swap out what's on this big center area screen as well so say for \n",
    "example on this one press and hold if i wanted that one to be driving data and there you go it's driving data so you really \n",
    "ought to spend time like this play around with the car and customize it set up the main screens for what you're going to be \n",
    "using most often let's go on along this top menu here we see a vehicle quick toggle screen so little uh commands or \n",
    "functionality that you might want to get to quickly like opening the roof really roof settings oh you can close close the \n",
    "sunshade from there that's interesting i didn't know you could do that from the infotainment system go in back and change your \n",
    "drive modes light settings etc in the parking screen right here that should give you the park assist or the ability to bring \n",
    "your rear-facing camera up some of the higher end models might have a 360 cam in the assist screen this is an easy way to turn \n",
    "on or off your different driver assistant functionality functionality up here that's quick toggle for your drive modes eco eco \n",
    "custom sport and comfort coming back home then we've got a kind of charging and battery information screen optimize certain \n",
    "things then coming back home you can actually swipe down right here to get to a quick toggle screen they should be able to \n",
    "access from pretty much any menu that gives you the ability to change the brightness of the screen especially at night and \n",
    "change between the bright and dark themes so now around the bright theme it'll look a little different you can adjust things \n",
    "like your sound settings navigate to your last destination volkswagen is really trying to give you a smart system here and and \n",
    "for some people that's going to be frustrating to use if you don't really get comfortable with it and figure out a way to make \n",
    "it work best for you and for your lifestyle but the more comfortable you are with it the more you're going to like it so let's \n",
    "bring up all of our apps now if we go to telephone you can see any sort of functionality that you might be able might want to \n",
    "do if you sync your contacts you can get those there make calls dial in a number etc going back let's go to radio and media \n",
    "radio and media you can see go to radio if i want to go let's see what's been last listened to oh no listening history all \n",
    "right news channel news and public radio let's go cnbc and if we back that out does that actually give us kind of a now playing \n",
    "screen player yeah there you go you can see your sirius xm you can pause go back change channel etc right back to live and \n",
    "favorite the channel coming back home let's go to navigation you can see your big map taking up a decent amount of the screen \n",
    "you can move around pinch to zoom fairly easily change which direction you're looking at the map come on should be able to i \n",
    "don't know why that's not working right now strange there we go i guess it just didn't want to be zoomed out or zoomed in and \n",
    "you can put in destinations we'll do a little bit more of that when we use the voice commands later under the vehicle screen we \n",
    "can you get it sort of broken up between interior and exterior so you can adjust functionality for the exterior lights how long \n",
    "you want them to stay on a little animations etc we can take a look at our tires see what our tire pressures are set at adjust \n",
    "those if you got winter tires on here and you want a speed warning for not going too fast on you can set that their headlights \n",
    "got the dynamic cornering lights so as you turn you get a little bit of extra lighting on their mirrors do you want them to \n",
    "drop down and and look down at the curb as you're in reverse you can do that for interior if we go to cockpit this gives us the \n",
    "ability to reset the driving data every time we start the vehicle or at different intervals id light this is your interior \n",
    "ambient lighting you can adjust the brightness on that you can see it moving around up there as well as the basic functionality \n",
    "so that id light is actually this light right here in front again let me adjust the brightness and you can see it right there \n",
    "it'll do things like when you're charging it'll shine a light and show you how much you're charging if you get an error or \n",
    "something's wrong with your vehicle it'll pulse at you for navigation you can have it light up for a turn driving and \n",
    "maneuvering tells you to take over the steering when you got the pilot assist going it's uh yeah it's kind of a neat \n",
    "functionality there interior light this is the ability to dim or brighten the lights because on this id4 for 2024 we've got \n",
    "some back lighting for the volume and climate controls under seats easy entry do you want the seat to move backward as you get \n",
    "in and out of it and turn on or off the vehicle and roof again that ability to open or close the roof from there then on the \n",
    "same vehicle screen we can see some status information this is where no it's still not letting us actually see our tire \n",
    "pressures it's just giving us a thumbs up showing us our odometer and the tripometer there as well as telling us we're good on \n",
    "service for now the ability to put your wipers in service position that's important if you want to change your wipers out \n",
    "yourself down under data we can see how efficient we've been driving since the start since it's been reset or since we last \n",
    "charged the vehicle pretty nice and straightforward there coming back to the app screen we'll skip over android auto for now we \n",
    "saw parking and charging auxiliary climate this is going to be if you want the climate control to stay on after you get out of \n",
    "the vehicle or if you want it to turn on at a certain time i actually took advantage of this yesterday i knew i was going to be \n",
    "getting in the vehicle after it was parked outside around 5 p.m so i toggled it to turn on and set the climate to 72 by 5 p.m i \n",
    "got in the car was nice and cool electric car advantages there let's skip settings for now we'll come back we saw drive mode \n",
    "here's your ambient lighting i don't know why it wasn't in the other setting screen maybe i missed over it but there are some \n",
    "preset ones you can choose from here or you hit custom and go down to custom here and you can change and customize your ambient \n",
    "lighting as a two-tone setup for the different parts of the vehicle and you can adjust the brightness for the different \n",
    "settings or parts of the vehicle as well so a lot of customization i like that volkswagen's doing that i mean they are leds so \n",
    "why shouldn't they be customizable and you can also just turn them all off right there if you want actually get a little bit \n",
    "more of a purple going here that usually looks good on camera we're going to skip over seats and sound we'll go to users if you \n",
    "have multiple people in the household that drive the car then you might want to set up different users for them save the radio \n",
    "presets climate presets and i think probably some seat settings as well although i do see buttons over here for seat memory so \n",
    "perhaps the touch screen can't operate that i can't exactly let you know coming back in we're going to skip over ida for now \n",
    "we'll get to that here in a moment you have the ability to see tips and help right there um we've got a climate control screen \n",
    "where i saw that and so that's about all you need from there so let's get into settings see anything we missed under screen you \n",
    "can turn the screen tone on or off we're going to get to that here in a moment i think that's under sound actually i know right \n",
    "here infotainment system touch screen tone so if you want to hear those little beeps as you touch the touch the screen you're \n",
    "going to want to have that on but i like that off time and date if you want to manually set your time you can do that from \n",
    "their language what do we have in here english spanish and french no german interestingly enough the ability to customize which \n",
    "units you see things in voice assistant settings what we got in here news feed okay dialogue tone the start and end dialogue oh \n",
    "to make a little beep sound okay all right that's great you can adjust the volume there there display the voice input probably \n",
    "want that as well answer calls without the wake word okay this is an important option right here if you do plan on selling your \n",
    "id4 you're going to want to restore the factory settings of the vehicle to clear everything out for you maybe you just bought \n",
    "an id4 you want to clear it out as well under network you have the ability to connect the system to a a wi-fi network to \n",
    "download updates and etc and you can use the infotainment system as a hotspot as well if you pay for it monthly power devices \n",
    "in the cabin such as tablets or laptops under mobile devices this is going to be how you pair or unpair different devices maybe \n",
    "delete them from the car we'll get to that later on information nothing really important there and then you actually have a \n",
    "configuration wizard so this is going to be if you first purchase the car you want to go in here and it'll set up a lot of \n",
    "things for you that's nifty to have that right there all right let's dive into the voice commands now but before we actually \n",
    "start them out let's go to this IDA screen so that's the name of the ID assistant it'll show you different suggestions on \n",
    "things you can see and or things you can say red is definitely my color what is that based on your current consumption you will \n",
    "still be able to drive 215 miles oh okay well so those are things you can actually click on to see there are a few different \n",
    "ways to activate it if we turn this off then we can say hello IDA or hello ID with that on and that's going to actually trigger \n",
    "the system or you can create your custom wake word so if I do something like right here tips for creating a wake word three or \n",
    "more syllables unique and not easily confused to be clearly and concisely set as you normally would hey everybody okay so now \n",
    "if I go hey everybody then it's it activates and and I can do some voice commands so we're obviously going to delete that \n",
    "because we wouldn't want that activating every time I start a video here in the car but let's get into it right now let's do \n",
    "something like hello ID navigate to the nearest Starbucks oh I still have to learn about that what that should be very \n",
    "straightforward here is an overview of the functions that you can operate by voice please pick one by saying the line or the \n",
    "function name okay let's let's just okay let's let's just cancel continue press here or activate idea go go home all right \n",
    "let's try this again you can also start the voice command with the steering wheel by pressing this button find the nearest \n",
    "Starbucks I'm still puzzled why that should be really straightforward what about a charger where's the nearest charging station \n",
    "search for charging station in the vicinity please select a POI from the list okay so it looks like it's picking some charge \n",
    "point Electrify America stations let's try search for Starbucks I'm still puzzled man so it can't do Starbucks all right um \n",
    "obviously you could just put in a destination like navigate to 1234 Main Street Los Angeles California did you mean 1234 South \n",
    "Main Street Los Angeles yes I found multiple alternatives for 1234 please say the line number two line two okay 1236 South Main \n",
    "Street Los Angeles California drive safely so that's a pretty a pretty pleasant system I'm just surprised it can't do the \n",
    "Starbucks thing that all the other cars can do but overall it is working pretty well and uh all right let's just try canceling \n",
    "hey hello ID hello ID cancel navigation stopping route guidance hello ID set the temperature to 62 degrees all right I'm \n",
    "setting the temperature to 62.0 degrees 62.0 great hello ID what's the weather like tomorrow I'm still puzzled all right so I \n",
    "can't do weather um let's try one more tell me a joke what has four legs and can fly two birds two birds that's pretty funny I \n",
    "like that all right so I when it does work I like the way the system works it responds well it's I like seeing the words up \n",
    "there it's got a pleasant sound to it it's just a few functionalities there I'm surprised it can't do so uh now is the time we \n",
    "dive into Android Auto but it seems to have disconnected my Android Auto so we're gonna go into settings and mobile devices try \n",
    "reconnecting this oh it's turn so turning off the wi-fi hotspot seems to have uh turned off the Android Auto okay there we go \n",
    "Android Auto coming up wirelessly taking up most of the screen but we still have our hot toggle screens on the top and bottom \n",
    "nice split screen format here with the google maps on the left and YouTube music on the right now interestingly it's in the \n",
    "nighttime setting and it must be because we have the screen on the dark setting which is fine that's that's how I'd like it but \n",
    "most cars don't do it that way here's our apps let's go down and bring up YouTube music hit the super mix see what we're \n",
    "getting some corn okay so we got that and if we go back home then it gives us our music on the right nav on the left let's \n",
    "bring up google maps full screen this is how most people are probably going to be using navigation anyway look at that \n",
    "responsiveness works really well very nice refresh pinch to zoom looking good now let's head on home and we'll connect our \n",
    "iPhone we got the iPhone right here we're going to bring it into the settings screen go down to bluetooth and then the car I'm \n",
    "going to bring up our app screen go to settings network mobile devices and any moment here it should pop up with the iPhone \n",
    "baby oh well down here on the iPhone I see there we go Charlie's iPhone we're going to click right here to get Apple CarPlay to \n",
    "come up and then anything that pops up on the phone or vehicle screen I'm going to accept pair and there we have it Apple \n",
    "CarPlay coming up taking up the whole screen definitely a larger resolution than the Android Auto so things look a little \n",
    "chunkier for better for worse but we still have that split screen setup with navigation and media let's bring up YouTube music \n",
    "first again and once it loads we'll hit super mix see what we're getting on the iPhone baby no money all right so two different \n",
    "artists here and then we're usually getting coming back home then you see you have your media on the right now on the left this \n",
    "is what your app screen is going to look like again really good refresh I'm overall really happy with the screen let's go to \n",
    "our Google Maps bring it up full screen again looking good moving around cannot pinch to zoom and it does look like our refresh \n",
    "is a little lower on the iPhone as well but all things considered working nicely and bring it back home right there so there we \n",
    "go 12.9 inch touchscreen here on the Volkswagen ID4 for 2024 I like it decently I think I like it better than the older system \n",
    "it responds really really well I like the quality of the screen the visuals like I said a few different little quirks there but \n",
    "overall a system that deserves to be spent time with and played around with so that you learn how to use it properly if there \n",
    "anything else I can answer try to ask it below and I'll try to get back to you and we'll see on the next one I'm Charlie from \n",
    "Daily Motor and as always, Drive On!\n",
    "\"\"\""
   ]
  },
  {
   "cell_type": "code",
   "execution_count": 137,
   "id": "8b3e562b-da80-462e-9dd1-2bc0f50c4a9f",
   "metadata": {},
   "outputs": [],
   "source": [
    "md_files = glob.glob(\"./*.md\", recursive=False)"
   ]
  },
  {
   "cell_type": "code",
   "execution_count": 138,
   "id": "a0bbc6f9-0e82-491c-82f1-10afd0313a52",
   "metadata": {},
   "outputs": [
    {
     "data": {
      "text/plain": [
       "['./1be03369cce8fde3db027342142350a79b2ea419fa7afc11534325701afdd771.md',\n",
       " './e4d4afb7254a62bd92ce03a57bd76aa27c613d7852536df29f6b594208725a88.md',\n",
       " './681bb5718154ff93bf5d85262665d92cbd3805a85c79670aa85ab6a4cc1ac707.md',\n",
       " './5527f0d44ad115b1cf8de07fe602658e895a220829e7051e21dd710cf65743e9.md',\n",
       " './b56b1cef43f3ac6bdb75ff047c40fac14fb1ea5e2d2ff3bb1cbc62a713b6e0b4.md',\n",
       " './8d1ecc800380bdafb087195011aa7de9b31e780c59e03f7163f82bd8f1f36dfa.md']"
      ]
     },
     "execution_count": 138,
     "metadata": {},
     "output_type": "execute_result"
    }
   ],
   "source": [
    "md_files"
   ]
  },
  {
   "cell_type": "code",
   "execution_count": 148,
   "id": "c3df2adb-484c-46fc-be86-ed125300d57b",
   "metadata": {},
   "outputs": [],
   "source": [
    "documents = []\n",
    "for md_file in md_files:\n",
    "    loader = UnstructuredMarkdownLoader(md_file)\n",
    "    document = loader.load()\n",
    "    documents.append(document)"
   ]
  },
  {
   "cell_type": "code",
   "execution_count": 150,
   "id": "bdf451e7-f2c5-417a-b859-365e08382699",
   "metadata": {},
   "outputs": [],
   "source": [
    "llm_transformer = LLMGraphTransformer(llm=llm)"
   ]
  },
  {
   "cell_type": "code",
   "execution_count": null,
   "id": "f019d418-9e53-48bb-9f3f-19d0d7d0b8be",
   "metadata": {},
   "outputs": [],
   "source": []
  },
  {
   "cell_type": "code",
   "execution_count": 158,
   "id": "c11ae9bf-72e9-4d47-b99a-e475fbf108c2",
   "metadata": {},
   "outputs": [],
   "source": [
    "graphs = []\n",
    "for doc in documents:\n",
    "    graph = await llm_transformer.aconvert_to_graph_documents(doc)\n",
    "    graphs.append(graph)"
   ]
  },
  {
   "cell_type": "code",
   "execution_count": null,
   "id": "e5efdd68-ddd4-49d0-9dc8-16c2f54f49b6",
   "metadata": {},
   "outputs": [],
   "source": [
    "host = \"db-neptune-1.cluster-cqniyw0gi5se.us-east-1.neptune.amazonaws.com\"\n",
    "port = 8182\n",
    "use_https = True\n",
    "\n",
    "neptune_client = client.Client(\n",
    "    f'wss://{host}:{port}/gremlin',\n",
    "    'g',\n",
    "    username='',  # If IAM is enabled, use AWS credentials\n",
    "    password='',  # If IAM is enabled, use AWS credentials\n",
    "    message_serializer=serializer.GraphSONSerializersV2d0()\n",
    ")"
   ]
  },
  {
   "cell_type": "code",
   "execution_count": 160,
   "id": "78dc325f-44cb-4b1f-9b0a-2502303a4a04",
   "metadata": {},
   "outputs": [],
   "source": [
    "host = \"db-neptune-1.cluster-cqniyw0gi5se.us-east-1.neptune.amazonaws.com\"\n",
    "port = 8182\n",
    "use_https = True\n",
    "\n",
    "neptune_client = client.Client(\n",
    "    f'wss://{host}:{port}/gremlin',\n",
    "    'g',\n",
    "    username='',  # If IAM is enabled, use AWS credentials\n",
    "    password='',  # If IAM is enabled, use AWS credentials\n",
    "    message_serializer=serializer.GraphSONSerializersV2d0()\n",
    ")"
   ]
  },
  {
   "cell_type": "code",
   "execution_count": 161,
   "id": "7e4440cb-e5d0-4145-b8ef-f69fdd17a8f5",
   "metadata": {},
   "outputs": [],
   "source": [
    "def delete_all_edges():\n",
    "    query = \"g.E().drop()\"\n",
    "    result = neptune_client.submitAsync(query).result()\n",
    "    result.all().result()\n",
    "\n",
    "def delete_all_nodes():\n",
    "    query = \"g.V().drop()\"\n",
    "    result = neptune_client.submitAsync(query).result()\n",
    "    result.all().result()\n",
    "\n",
    "def delete_entire_graph():\n",
    "    delete_all_edges()\n",
    "    delete_all_nodes()\n",
    "    \n",
    "def add_node(node):\n",
    "    query = f\"g.addV('{node['type']}').property(T.id, '{node['id']}')\"\n",
    "    for key, value in node['properties'].items():\n",
    "        query += f\".property('{key}', '{value}')\"\n",
    "    result = neptune_client.submitAsync(query).result()\n",
    "    return result\n",
    "\n",
    "def add_edge(edge):\n",
    "    source_id = edge[\"source\"]\n",
    "    target_id = edge[\"target\"]\n",
    "    edge_type = edge[\"type\"]\n",
    "\n",
    "    try:\n",
    "        query = f\"g.V('{source_id}').as('a').V('{target_id}').addE('{edge_type}').from('a')\"\n",
    "        for key, value in edge[\"properties\"].items():\n",
    "            query += f\".property('{key}', '{value}')\"\n",
    "        \n",
    "        result = neptune_client.submitAsync(query).result()\n",
    "        result.all().result()\n",
    "        print(f\"✅ Edge created: {source_id} -> {target_id}\")\n",
    "    except Exception as e:\n",
    "        print(f\"❌ ERROR creating edge {source_id} -> {target_id}: {e}\")\n",
    "\n",
    "# Schritt 3: Gesamten Graph einfügen\n",
    "def insert_graph(graph_doc: GraphDocument):\n",
    "    for node in graph_doc.nodes:\n",
    "        gremlin_node = {\n",
    "            \"id\": node.id,\n",
    "            \"type\": node.type,\n",
    "            \"properties\": node.properties or {}\n",
    "        }\n",
    "        add_node(gremlin_node)\n",
    "\n",
    "    for edge in graph_doc.relationships:\n",
    "        gremlin_edge = {\n",
    "            \"source\": edge.source.id,\n",
    "            \"target\": edge.target.id,\n",
    "            \"type\": edge.type,\n",
    "            \"properties\": edge.properties or {}\n",
    "        }\n",
    "        add_edge(gremlin_edge)"
   ]
  },
  {
   "cell_type": "code",
   "execution_count": 162,
   "id": "d2f74c58-56ba-41fb-805c-8e5bae8c9a48",
   "metadata": {},
   "outputs": [
    {
     "name": "stderr",
     "output_type": "stream",
     "text": [
      "\n",
      "Received error message '{'requestId': '5b0aa07f-7f5c-4652-9c9a-a431dc6b1dbf', 'status': {'message': '{\"detailedMessage\":\"Vertex with id already exists: \",\"code\":\"ConstraintViolationException\",\"requestId\":\"5b0aa07f-7f5c-4652-9c9a-a431dc6b1dbf\",\"message\":\"Vertex with id already exists: \"}', 'code': 499, 'attributes': {}}, 'result': {'data': None, 'meta': {}}}'\n",
      "\n",
      "With results dictionary '{'5b0aa07f-7f5c-4652-9c9a-a431dc6b1dbf': <gremlin_python.driver.resultset.ResultSet object at 0x7fc923f3f5b0>}'\n",
      "\n",
      "Received error message '{'requestId': '10a621d7-9495-455b-b0b7-69224d24d731', 'status': {'message': '{\"detailedMessage\":\"Vertex with id already exists: \",\"code\":\"ConstraintViolationException\",\"requestId\":\"10a621d7-9495-455b-b0b7-69224d24d731\",\"message\":\"Vertex with id already exists: \"}', 'code': 499, 'attributes': {}}, 'result': {'data': None, 'meta': {}}}'\n",
      "\n",
      "With results dictionary '{'10a621d7-9495-455b-b0b7-69224d24d731': <gremlin_python.driver.resultset.ResultSet object at 0x7fc923f44fd0>}'\n",
      "\n",
      "Received error message '{'requestId': '3b8badc2-8e9a-4b7e-99f5-a41d7bd86c55', 'status': {'message': '{\"detailedMessage\":\"Vertex with id already exists: \",\"code\":\"ConstraintViolationException\",\"requestId\":\"3b8badc2-8e9a-4b7e-99f5-a41d7bd86c55\",\"message\":\"Vertex with id already exists: \"}', 'code': 499, 'attributes': {}}, 'result': {'data': None, 'meta': {}}}'\n",
      "\n",
      "With results dictionary '{'3b8badc2-8e9a-4b7e-99f5-a41d7bd86c55': <gremlin_python.driver.resultset.ResultSet object at 0x7fc923f3f2e0>}'\n",
      "\n",
      "Received error message '{'requestId': '232c8a4a-6223-455d-a103-99dc579f8e73', 'status': {'message': '{\"detailedMessage\":\"Vertex with id already exists: \",\"code\":\"ConstraintViolationException\",\"requestId\":\"232c8a4a-6223-455d-a103-99dc579f8e73\",\"message\":\"Vertex with id already exists: \"}', 'code': 499, 'attributes': {}}, 'result': {'data': None, 'meta': {}}}'\n",
      "\n",
      "With results dictionary '{'232c8a4a-6223-455d-a103-99dc579f8e73': <gremlin_python.driver.resultset.ResultSet object at 0x7fc923f3da20>}'\n",
      "\n",
      "Received error message '{'requestId': 'b7c73372-cfbc-4665-a7ab-c92b95ae84ad', 'status': {'message': '{\"detailedMessage\":\"Vertex with id already exists: \",\"code\":\"ConstraintViolationException\",\"requestId\":\"b7c73372-cfbc-4665-a7ab-c92b95ae84ad\",\"message\":\"Vertex with id already exists: \"}', 'code': 499, 'attributes': {}}, 'result': {'data': None, 'meta': {}}}'\n",
      "\n",
      "With results dictionary '{'b7c73372-cfbc-4665-a7ab-c92b95ae84ad': <gremlin_python.driver.resultset.ResultSet object at 0x7fc923f3db10>}'\n",
      "\n",
      "Received error message '{'requestId': '58750829-70b0-4b73-8a23-73c3c1382326', 'status': {'message': '{\"detailedMessage\":\"Failed to interpret Gremlin query: Query parsing failed at line 1, character position at 67, error message : token recognition error at: \\'\\')\\'\",\"code\":\"MalformedQueryException\",\"requestId\":\"58750829-70b0-4b73-8a23-73c3c1382326\",\"message\":\"Failed to interpret Gremlin query: Query parsing failed at line 1, character position at 67, error message : token recognition error at: \\'\\')\\'\"}', 'code': 499, 'attributes': {}}, 'result': {'data': None, 'meta': {}}}'\n",
      "\n",
      "With results dictionary '{'58750829-70b0-4b73-8a23-73c3c1382326': <gremlin_python.driver.resultset.ResultSet object at 0x7fc923f3f490>}'\n",
      "\n",
      "Received error message '{'requestId': 'fd1871e4-cc1e-49db-b7ca-38e9a4c74492', 'status': {'message': '{\"detailedMessage\":\"Vertex with id already exists: \",\"code\":\"ConstraintViolationException\",\"requestId\":\"fd1871e4-cc1e-49db-b7ca-38e9a4c74492\",\"message\":\"Vertex with id already exists: \"}', 'code': 499, 'attributes': {}}, 'result': {'data': None, 'meta': {}}}'\n",
      "\n",
      "With results dictionary '{'fd1871e4-cc1e-49db-b7ca-38e9a4c74492': <gremlin_python.driver.resultset.ResultSet object at 0x7fc923f3f1c0>}'\n",
      "\n",
      "Received error message '{'requestId': 'a5931742-6c4e-4a86-8861-050cfa868f32', 'status': {'message': '{\"detailedMessage\":\"Failed to interpret Gremlin query: Query parsing failed at line 1, character position at 98, error message : token recognition error at: \\'\\')\\'\",\"code\":\"MalformedQueryException\",\"requestId\":\"a5931742-6c4e-4a86-8861-050cfa868f32\",\"message\":\"Failed to interpret Gremlin query: Query parsing failed at line 1, character position at 98, error message : token recognition error at: \\'\\')\\'\"}', 'code': 499, 'attributes': {}}, 'result': {'data': None, 'meta': {}}}'\n",
      "\n",
      "With results dictionary '{'a5931742-6c4e-4a86-8861-050cfa868f32': <gremlin_python.driver.resultset.ResultSet object at 0x7fc923f3f5b0>}'\n",
      "\n",
      "Received error message '{'requestId': '2d59413c-1e39-4634-9a85-e5f5b8f89135', 'status': {'message': '{\"detailedMessage\":\"Vertex with id already exists: \",\"code\":\"ConstraintViolationException\",\"requestId\":\"2d59413c-1e39-4634-9a85-e5f5b8f89135\",\"message\":\"Vertex with id already exists: \"}', 'code': 499, 'attributes': {}}, 'result': {'data': None, 'meta': {}}}'\n",
      "\n",
      "With results dictionary '{'2d59413c-1e39-4634-9a85-e5f5b8f89135': <gremlin_python.driver.resultset.ResultSet object at 0x7fc923f3dc30>}'\n",
      "\n",
      "Received error message '{'requestId': '0114cc5a-50a9-4b0c-bfd5-4fe024cd227c', 'status': {'message': '{\"detailedMessage\":\"Vertex with id already exists: \",\"code\":\"ConstraintViolationException\",\"requestId\":\"0114cc5a-50a9-4b0c-bfd5-4fe024cd227c\",\"message\":\"Vertex with id already exists: \"}', 'code': 499, 'attributes': {}}, 'result': {'data': None, 'meta': {}}}'\n",
      "\n",
      "With results dictionary '{'0114cc5a-50a9-4b0c-bfd5-4fe024cd227c': <gremlin_python.driver.resultset.ResultSet object at 0x7fc923f3e530>}'\n",
      "\n",
      "Received error message '{'requestId': '781a2805-2d39-4a8f-be9c-d3400027212a', 'status': {'message': '{\"detailedMessage\":\"Vertex with id already exists: \",\"code\":\"ConstraintViolationException\",\"requestId\":\"781a2805-2d39-4a8f-be9c-d3400027212a\",\"message\":\"Vertex with id already exists: \"}', 'code': 499, 'attributes': {}}, 'result': {'data': None, 'meta': {}}}'\n",
      "\n",
      "With results dictionary '{'781a2805-2d39-4a8f-be9c-d3400027212a': <gremlin_python.driver.resultset.ResultSet object at 0x7fc923f3ecb0>}'\n",
      "\n",
      "Received error message '{'requestId': '1c032867-e9fb-430f-a459-55c94663ff9c', 'status': {'message': '{\"detailedMessage\":\"Vertex with id already exists: \",\"code\":\"ConstraintViolationException\",\"requestId\":\"1c032867-e9fb-430f-a459-55c94663ff9c\",\"message\":\"Vertex with id already exists: \"}', 'code': 499, 'attributes': {}}, 'result': {'data': None, 'meta': {}}}'\n",
      "\n",
      "With results dictionary '{'1c032867-e9fb-430f-a459-55c94663ff9c': <gremlin_python.driver.resultset.ResultSet object at 0x7fc923f3f7f0>}'\n",
      "\n",
      "Received error message '{'requestId': '76969cd7-6fae-4b5f-b936-75c8385d296d', 'status': {'message': '{\"detailedMessage\":\"Vertex with id already exists: \",\"code\":\"ConstraintViolationException\",\"requestId\":\"76969cd7-6fae-4b5f-b936-75c8385d296d\",\"message\":\"Vertex with id already exists: \"}', 'code': 499, 'attributes': {}}, 'result': {'data': None, 'meta': {}}}'\n",
      "\n",
      "With results dictionary '{'76969cd7-6fae-4b5f-b936-75c8385d296d': <gremlin_python.driver.resultset.ResultSet object at 0x7fc923f45c30>}'\n",
      "\n",
      "Received error message '{'requestId': 'b2530fc4-ba59-45b8-9d03-313b9ba48124', 'status': {'message': '{\"detailedMessage\":\"Vertex with id already exists: \",\"code\":\"ConstraintViolationException\",\"requestId\":\"b2530fc4-ba59-45b8-9d03-313b9ba48124\",\"message\":\"Vertex with id already exists: \"}', 'code': 499, 'attributes': {}}, 'result': {'data': None, 'meta': {}}}'\n",
      "\n",
      "With results dictionary '{'b2530fc4-ba59-45b8-9d03-313b9ba48124': <gremlin_python.driver.resultset.ResultSet object at 0x7fc923f45750>}'\n",
      "\n",
      "Received error message '{'requestId': '6450d779-5119-41cd-a9c1-9111f97ea056', 'status': {'message': '{\"detailedMessage\":\"Vertex with id already exists: \",\"code\":\"ConstraintViolationException\",\"requestId\":\"6450d779-5119-41cd-a9c1-9111f97ea056\",\"message\":\"Vertex with id already exists: \"}', 'code': 499, 'attributes': {}}, 'result': {'data': None, 'meta': {}}}'\n",
      "\n",
      "With results dictionary '{'6450d779-5119-41cd-a9c1-9111f97ea056': <gremlin_python.driver.resultset.ResultSet object at 0x7fc923f3c430>}'\n",
      "\n",
      "Received error message '{'requestId': '5e487a53-0f74-41c2-8d86-62c09ccad681', 'status': {'message': '{\"detailedMessage\":\"Vertex with id already exists: \",\"code\":\"ConstraintViolationException\",\"requestId\":\"5e487a53-0f74-41c2-8d86-62c09ccad681\",\"message\":\"Vertex with id already exists: \"}', 'code': 499, 'attributes': {}}, 'result': {'data': None, 'meta': {}}}'\n",
      "\n",
      "With results dictionary '{'5e487a53-0f74-41c2-8d86-62c09ccad681': <gremlin_python.driver.resultset.ResultSet object at 0x7fc923f45ab0>}'\n",
      "\n",
      "Received error message '{'requestId': '05540d7e-da74-40cb-b455-6823f2392a4e', 'status': {'message': '{\"detailedMessage\":\"Vertex with id already exists: \",\"code\":\"ConstraintViolationException\",\"requestId\":\"05540d7e-da74-40cb-b455-6823f2392a4e\",\"message\":\"Vertex with id already exists: \"}', 'code': 499, 'attributes': {}}, 'result': {'data': None, 'meta': {}}}'\n",
      "\n",
      "With results dictionary '{'05540d7e-da74-40cb-b455-6823f2392a4e': <gremlin_python.driver.resultset.ResultSet object at 0x7fc923f3e7a0>}'\n",
      "\n",
      "Received error message '{'requestId': '11d91321-1029-412d-ab64-caa29b1b6086', 'status': {'message': '{\"detailedMessage\":\"Vertex with id already exists: \",\"code\":\"ConstraintViolationException\",\"requestId\":\"11d91321-1029-412d-ab64-caa29b1b6086\",\"message\":\"Vertex with id already exists: \"}', 'code': 499, 'attributes': {}}, 'result': {'data': None, 'meta': {}}}'\n",
      "\n",
      "With results dictionary '{'11d91321-1029-412d-ab64-caa29b1b6086': <gremlin_python.driver.resultset.ResultSet object at 0x7fc923f3d9c0>}'\n",
      "\n",
      "Received error message '{'requestId': '7455c5cf-21d9-4d88-bd0d-f43d0afcbbb9', 'status': {'message': '{\"detailedMessage\":\"Vertex with id already exists: \",\"code\":\"ConstraintViolationException\",\"requestId\":\"7455c5cf-21d9-4d88-bd0d-f43d0afcbbb9\",\"message\":\"Vertex with id already exists: \"}', 'code': 499, 'attributes': {}}, 'result': {'data': None, 'meta': {}}}'\n",
      "\n",
      "With results dictionary '{'7455c5cf-21d9-4d88-bd0d-f43d0afcbbb9': <gremlin_python.driver.resultset.ResultSet object at 0x7fc923f3e590>}'\n",
      "\n",
      "Received error message '{'requestId': '05b45053-0bd7-4641-9547-757852662147', 'status': {'message': '{\"detailedMessage\":\"Failed to interpret Gremlin query: Query parsing failed at line 1, character position at 46, error message : token recognition error at: \\'\\')\\'\",\"code\":\"MalformedQueryException\",\"requestId\":\"05b45053-0bd7-4641-9547-757852662147\",\"message\":\"Failed to interpret Gremlin query: Query parsing failed at line 1, character position at 46, error message : token recognition error at: \\'\\')\\'\"}', 'code': 499, 'attributes': {}}, 'result': {'data': None, 'meta': {}}}'\n",
      "\n",
      "With results dictionary '{'05b45053-0bd7-4641-9547-757852662147': <gremlin_python.driver.resultset.ResultSet object at 0x7fc923f3dc30>}'\n"
     ]
    }
   ],
   "source": [
    "delete_entire_graph()"
   ]
  },
  {
   "cell_type": "code",
   "execution_count": null,
   "id": "240af83c-4c06-4872-9890-5553c36b9a4b",
   "metadata": {},
   "outputs": [],
   "source": [
    "for g in graphs:\n",
    "    insert_graph(g[0])"
   ]
  },
  {
   "cell_type": "code",
   "execution_count": null,
   "id": "bbe08b8b-25c1-46ad-960e-88f9956f6250",
   "metadata": {},
   "outputs": [],
   "source": []
  },
  {
   "cell_type": "markdown",
   "id": "02c2b93f-9799-418f-b123-c814a8e967ae",
   "metadata": {},
   "source": [
    "## Setup the AWS Neptune database connection"
   ]
  },
  {
   "cell_type": "code",
   "execution_count": null,
   "id": "1547c9aa-6ef5-47d0-acbc-a87f311706cd",
   "metadata": {},
   "outputs": [],
   "source": []
  },
  {
   "cell_type": "code",
   "execution_count": 15,
   "id": "0389d986-b267-4a06-9301-ca131fb5a75f",
   "metadata": {},
   "outputs": [],
   "source": [
    "llm_transformer = LLMGraphTransformer(llm=llm)"
   ]
  },
  {
   "cell_type": "code",
   "execution_count": 16,
   "id": "bb6394dd-8dbf-4635-94b9-27e38fd06e23",
   "metadata": {},
   "outputs": [],
   "source": [
    "documents = [Document(page_content=transcript)]"
   ]
  },
  {
   "cell_type": "code",
   "execution_count": 17,
   "id": "4dd169bb-61f1-4b8a-a14f-7fd8a6d42563",
   "metadata": {},
   "outputs": [],
   "source": [
    "data = await llm_transformer.aconvert_to_graph_documents(documents)"
   ]
  },
  {
   "cell_type": "code",
   "execution_count": 90,
   "id": "9534e91a-1d42-4c8d-ad5c-11a388729398",
   "metadata": {},
   "outputs": [],
   "source": [
    "host = \"db-neptune-1.cluster-cqniyw0gi5se.us-east-1.neptune.amazonaws.com\"\n",
    "port = 8182\n",
    "use_https = True"
   ]
  },
  {
   "cell_type": "code",
   "execution_count": 91,
   "id": "2a1dfe01-9b2a-400b-9db7-da3ec192ff2b",
   "metadata": {},
   "outputs": [],
   "source": [
    "neptune_client = client.Client(\n",
    "    f'wss://{host}:{port}/gremlin',\n",
    "    'g',\n",
    "    username='',  # If IAM is enabled, use AWS credentials\n",
    "    password='',  # If IAM is enabled, use AWS credentials\n",
    "    message_serializer=serializer.GraphSONSerializersV2d0()\n",
    ")"
   ]
  },
  {
   "cell_type": "code",
   "execution_count": 92,
   "id": "46574825-746c-4bde-b25f-02406573f0fc",
   "metadata": {
    "editable": true,
    "slideshow": {
     "slide_type": ""
    },
    "tags": []
   },
   "outputs": [],
   "source": [
    "def delete_all_edges():\n",
    "    query = \"g.E().drop()\"\n",
    "    result = neptune_client.submitAsync(query).result()\n",
    "    result.all().result()\n",
    "\n",
    "def delete_all_nodes():\n",
    "    query = \"g.V().drop()\"\n",
    "    result = neptune_client.submitAsync(query).result()\n",
    "    result.all().result()\n",
    "\n",
    "def delete_entire_graph():\n",
    "    delete_all_edges()\n",
    "    delete_all_nodes()\n",
    "    \n",
    "def add_node(node):\n",
    "    query = f\"g.addV('{node['type']}').property(T.id, '{node['id']}')\"\n",
    "    for key, value in node['properties'].items():\n",
    "        query += f\".property('{key}', '{value}')\"\n",
    "    result = neptune_client.submitAsync(query).result()\n",
    "    return result\n",
    "\n",
    "def add_edge(edge):\n",
    "    source_id = edge[\"source\"]\n",
    "    target_id = edge[\"target\"]\n",
    "    edge_type = edge[\"type\"]\n",
    "\n",
    "    try:\n",
    "        query = f\"g.V('{source_id}').as('a').V('{target_id}').addE('{edge_type}').from('a')\"\n",
    "        for key, value in edge[\"properties\"].items():\n",
    "            query += f\".property('{key}', '{value}')\"\n",
    "        \n",
    "        result = neptune_client.submitAsync(query).result()\n",
    "        result.all().result()\n",
    "        print(f\"✅ Edge created: {source_id} -> {target_id}\")\n",
    "    except Exception as e:\n",
    "        print(f\"❌ ERROR creating edge {source_id} -> {target_id}: {e}\")\n",
    "\n",
    "# Schritt 3: Gesamten Graph einfügen\n",
    "def insert_graph(graph_doc: GraphDocument):\n",
    "    for node in graph_doc.nodes:\n",
    "        gremlin_node = {\n",
    "            \"id\": node.id,\n",
    "            \"type\": node.type,\n",
    "            \"properties\": node.properties or {}\n",
    "        }\n",
    "        add_node(gremlin_node)\n",
    "\n",
    "    for edge in graph_doc.relationships:\n",
    "        gremlin_edge = {\n",
    "            \"source\": edge.source.id,\n",
    "            \"target\": edge.target.id,\n",
    "            \"type\": edge.type,\n",
    "            \"properties\": edge.properties or {}\n",
    "        }\n",
    "        add_edge(gremlin_edge)"
   ]
  },
  {
   "cell_type": "code",
   "execution_count": 93,
   "id": "bf0fb0a3-fb47-4ef0-907b-04d92f4dee3b",
   "metadata": {},
   "outputs": [],
   "source": [
    "delete_entire_graph()"
   ]
  },
  {
   "cell_type": "code",
   "execution_count": 94,
   "id": "139af0c0-c1ea-4b93-959b-7a13afa0f8bf",
   "metadata": {
    "editable": true,
    "slideshow": {
     "slide_type": ""
    },
    "tags": []
   },
   "outputs": [
    {
     "name": "stdout",
     "output_type": "stream",
     "text": [
      "✅ Edge created: Charlie -> Daily Motor\n",
      "✅ Edge created: Charlie -> 2024 Volkswagen Id4\n",
      "✅ Edge created: 2024 Volkswagen Id4 -> 12.9 Inch Infotainment Screen\n",
      "✅ Edge created: 2024 Volkswagen Id4 -> Gauge Cluster Screen\n",
      "✅ Edge created: 12.9 Inch Infotainment Screen -> Android Auto\n",
      "✅ Edge created: 12.9 Inch Infotainment Screen -> Apple Carplay\n",
      "✅ Edge created: 12.9 Inch Infotainment Screen -> Voice Commands\n",
      "✅ Edge created: 12.9 Inch Infotainment Screen -> Ida\n",
      "✅ Edge created: Ida -> Voice Commands\n",
      "✅ Edge created: 12.9 Inch Infotainment Screen -> Navigation System\n",
      "✅ Edge created: 12.9 Inch Infotainment Screen -> Climate Control\n",
      "✅ Edge created: 12.9 Inch Infotainment Screen -> Ambient Lighting\n",
      "✅ Edge created: 12.9 Inch Infotainment Screen -> Bluetooth\n",
      "✅ Edge created: 12.9 Inch Infotainment Screen -> Wi-Fi\n",
      "✅ Edge created: Android Auto -> Google Maps\n",
      "✅ Edge created: Android Auto -> Youtube Music\n",
      "✅ Edge created: Apple Carplay -> Google Maps\n",
      "✅ Edge created: Apple Carplay -> Youtube Music\n",
      "✅ Edge created: Iphone -> Apple Carplay\n",
      "✅ Edge created: 12.9 Inch Infotainment Screen -> Home Screen\n",
      "✅ Edge created: 12.9 Inch Infotainment Screen -> Settings\n",
      "✅ Edge created: 2024 Volkswagen Id4 -> Drive Modes\n",
      "✅ Edge created: 12.9 Inch Infotainment Screen -> Charging Information\n",
      "✅ Edge created: 12.9 Inch Infotainment Screen -> Vehicle Status\n",
      "✅ Edge created: Home Screen -> Customizable Tiles\n",
      "✅ Edge created: Navigation System -> Starbucks\n",
      "✅ Edge created: Navigation System -> Charging Stations\n",
      "✅ Edge created: Charging Stations -> Electrify America\n",
      "✅ Edge created: Charging Stations -> Charge Point\n",
      "✅ Edge created: 2024 Volkswagen Id4 -> Seven Speaker Sound System\n",
      "✅ Edge created: 2024 Volkswagen Id4 -> Id Light\n",
      "✅ Edge created: 2024 Volkswagen Id4 -> Auxiliary Climate\n",
      "✅ Edge created: Auxiliary Climate -> Climate Control\n"
     ]
    }
   ],
   "source": [
    "insert_graph(data[0])"
   ]
  },
  {
   "cell_type": "markdown",
   "id": "d3f1c12e-c64d-48d2-a3a9-8f37f0382a7b",
   "metadata": {
    "editable": true,
    "slideshow": {
     "slide_type": ""
    },
    "tags": []
   },
   "source": [
    "## Langchain QA"
   ]
  },
  {
   "cell_type": "code",
   "execution_count": 164,
   "id": "840903f3-1f6f-40b9-b31d-558d655e2ec9",
   "metadata": {},
   "outputs": [],
   "source": [
    "from langchain_community.graphs import GremlinGraph\n",
    "from langchain_community.graphs.graph_document import GraphDocument, Node, Relationship\n",
    "from langchain_core.documents import Document\n",
    "from langchain_community.chains.graph_qa.gremlin import GremlinQAChain"
   ]
  },
  {
   "cell_type": "code",
   "execution_count": 165,
   "id": "60b09991-4145-4812-a3e9-92605117a1aa",
   "metadata": {},
   "outputs": [],
   "source": [
    "graph = GremlinGraph(\n",
    "    url=f\"wss://{host}:{port}/gremlin\",\n",
    "    username='',\n",
    "    password='',\n",
    ")"
   ]
  },
  {
   "cell_type": "code",
   "execution_count": 166,
   "id": "8e2df8ba-bfcb-4276-be63-a240c8455053",
   "metadata": {},
   "outputs": [],
   "source": [
    "#graph.add_graph_documents(data[100:])"
   ]
  },
  {
   "cell_type": "code",
   "execution_count": 167,
   "id": "47040196-8e80-40ec-91a1-8ff4f63bd9c3",
   "metadata": {},
   "outputs": [],
   "source": [
    "graph.refresh_schema()"
   ]
  },
  {
   "cell_type": "code",
   "execution_count": 168,
   "id": "751f3ce2-a8f7-4005-87d3-48d205147654",
   "metadata": {},
   "outputs": [
    {
     "name": "stdout",
     "output_type": "stream",
     "text": [
      "Vertex labels are the following:\n",
      "Organization,Company,Vehicle,Car,Technology,Location,Person,Feature,Product,Website,Vehicle category,Component,Specification,Event\n",
      "Edge labels are the following:\n",
      "COMPETES_WITH,VISITED,HAS,WORKS_FOR,EXPERIENCED_FAILURE_WITH,HAS_OPTION,MANUFACTURED_BY,MANUFACTURES,OWNS,LOCATED_IN,SOLD_IN,TESTED_AT,HAS_VARIANT,REVIEWS,COMPATIBLE_WITH,STARTED_TRIP_FROM,DEVELOPS,EQUIPPED_WITH,FITTED_WITH,TRANSPORTED,IS_VERSION_OF,TRAVELED_TO,FEATURES,USES,STANDARD_FOR,TESTED,OPTIONAL_FOR,REVIEWED,IS_A,TEST_DROVE,PUBLISHED_ARTICLE_ABOUT,PART_OF,MENTIONED_DELAY,SERVICED_AT,PLANS_TO_BUY,DEPARTED_FROM,ABOUT,OUTPERFORMED_IN_WINTER_RANGE,BASED_ON,CRITICIZED_INTERIOR_SIZE,VARIANT_OF,CO_DEVELOPS,WROTE_ABOUT,DEVELOPED_BY,FOUNDED,FEATURED_IN,TESTED_IN,WORKS_AT,HAS_NAME,CONSIDERING_BUYING\n",
      "Vertices have following properties:\n",
      "{}\n"
     ]
    }
   ],
   "source": [
    "print(graph.schema)"
   ]
  },
  {
   "cell_type": "code",
   "execution_count": 169,
   "id": "2fd186b2-4844-4134-8a5c-071aa688cbd7",
   "metadata": {},
   "outputs": [],
   "source": [
    "chain = GremlinQAChain.from_llm(\n",
    "    llm=llm,\n",
    "    graph=graph,\n",
    "    verbose=True,\n",
    "    allow_dangerous_requests=True\n",
    ")"
   ]
  },
  {
   "cell_type": "code",
   "execution_count": 185,
   "id": "705d317e-e0a4-4306-99bb-ff9718868c96",
   "metadata": {},
   "outputs": [
    {
     "name": "stdout",
     "output_type": "stream",
     "text": [
      "\n",
      "\n",
      "\u001b[1m> Entering new GremlinQAChain chain...\u001b[0m\n",
      "Generated gremlin:\n",
      "\u001b[32;1m\u001b[1;3mg.V().hasLabel('Car')\u001b[0m\n",
      "Full Context:\n",
      "\u001b[32;1m\u001b[1;3m[v[Audi Q6 E-Tron], v[Polestar 3], v[Tesla Model Y], v[Bmw Ix3], v[Macan Base Model], v[Taycan], v[Polestar 4], v[Macan 4], v[A6 E-Tron], v[Kia Ev6], v[Macan], v[Q6 E-Tron], v[Porsche Macan], v[Lotus Eletre], v[Tesla Model X], v[Porsche Taycan], v[Macan 4S], v[Maserati Grecale Folgore], v[Macan Turbo], v[Ford Mustang Mach-E], v[Porsche Macan Electric]]\u001b[0m\n",
      "\n",
      "\u001b[1m> Finished chain.\u001b[0m\n"
     ]
    },
    {
     "data": {
      "text/plain": [
       "{'query': 'What about Cars',\n",
       " 'result': 'Based on the information provided, there are several electric and hybrid cars available including Audi Q6 E-Tron, Polestar 3, Tesla Model Y, BMW iX3, various Porsche models (Macan Base Model, Taycan, Macan 4, Macan 4S, Macan Turbo, Porsche Macan Electric), A6 E-Tron, Kia EV6, Lotus Eletre, Tesla Model X, Maserati Grecale Folgore, and Ford Mustang Mach-E. These represent a range of electric vehicles from different manufacturers across various price points and styles.'}"
      ]
     },
     "execution_count": 185,
     "metadata": {},
     "output_type": "execute_result"
    }
   ],
   "source": [
    "chain.invoke(\"What about Compa\")\n"
   ]
  },
  {
   "cell_type": "code",
   "execution_count": null,
   "id": "71b49f4a-cfb0-41d6-81a7-ad64e1845543",
   "metadata": {},
   "outputs": [],
   "source": []
  }
 ],
 "metadata": {
  "kernelspec": {
   "display_name": "Python 3 (ipykernel)",
   "language": "python",
   "name": "python3"
  },
  "language_info": {
   "codemirror_mode": {
    "name": "ipython",
    "version": 3
   },
   "file_extension": ".py",
   "mimetype": "text/x-python",
   "name": "python",
   "nbconvert_exporter": "python",
   "pygments_lexer": "ipython3",
   "version": "3.10.8"
  }
 },
 "nbformat": 4,
 "nbformat_minor": 5
}
